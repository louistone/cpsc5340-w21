{
 "cells": [
  {
   "cell_type": "markdown",
   "metadata": {},
   "source": [
    "## Solr Practice Session\n",
    "\n",
    "1.  Installing SOLR\n",
    "1. Starting the service\n",
    "  1.  Standalone versus cloud\n",
    "1.  Basic administration\n",
    "1.  Example collections\n",
    "1.  The admin GUI\n",
    "1.  Defining a new collection\n",
    "  1.  Configuration files\n",
    "  1.  Defining the schema\n",
    "1.  Indexing documents\n",
    "1.  Queries and query responses\n",
    "\n"
   ]
  },
  {
   "cell_type": "markdown",
   "metadata": {},
   "source": [
    "### Installing SOLR\n",
    "\n",
    "https://lucene.apache.org/solr/guide/7_1/installing-solr.html\n",
    "\n",
    "1. Verify Java version\n",
    "1. Download SOLR archive\n",
    "1. Expand it to a location of your choice\n",
    "1. Remember that location, as you will be running commands out of its bin directory"
   ]
  },
  {
   "cell_type": "markdown",
   "metadata": {},
   "source": [
    "### Starting and stopping the service\n",
    "\n",
    "1.  <pre>bin\\solr start [-c] [-e example]</pre>\n",
    "2. <pre>bin\\solr stop -all</pre>"
   ]
  }
 ],
 "metadata": {
  "kernelspec": {
   "display_name": "Python 3",
   "language": "python",
   "name": "python3"
  },
  "language_info": {
   "codemirror_mode": {
    "name": "ipython",
    "version": 3
   },
   "file_extension": ".py",
   "mimetype": "text/x-python",
   "name": "python",
   "nbconvert_exporter": "python",
   "pygments_lexer": "ipython3",
   "version": "3.7.0"
  }
 },
 "nbformat": 4,
 "nbformat_minor": 2
}
