{
 "cells": [
  {
   "cell_type": "markdown",
   "metadata": {},
   "source": [
    "## Assignment 1 -- Page Scrape to SOLR\n",
    "\n",
    "For this assignment we will be working with Amazon product reviews.  We have already downloaded ~500 product detail pages for movies, they are in the *pages* directory.  \n",
    "\n",
    "For this assignment you will: \n",
    "\n",
    "1. Parse the HTML pages to get attributes of interest about the product and reviews for the product (each review will be a *document*)\n",
    "1. Create a SOLR collection to hold the documents\n",
    "1. Index the documents\n",
    "1. Write an interface (Python) allowing an end user to query the documents and get back useful results\n",
    "\n",
    "You will be writing the code to interact with SOLR in such a way that I can grab your notebook and run the code, which will create your SOLR collection and parse and load some documents, then I can run queries against your SOLR collection for a set of queries, which you will also supply through Python functions."
   ]
  },
  {
   "cell_type": "markdown",
   "metadata": {},
   "source": [
    "### Product Review Data Attributes\n",
    "\n",
    "You will collect the following attributes from a review.  Please make sure in your implementation, you use *exactly these names* for the attributes.\n",
    "\n",
    "1. ***productID*** -- a string.  The Amazon ASIN for the product being reviewed.\n",
    "2. ***productName*** -- a string.  The name of the product being reviewed\n",
    "2. ***reviewSummary*** -- a string.  Short text the reviewer supplies to introduce the review\n",
    "3. ***reviewBody*** -- a string.  Text of the review.   Note that although empty reviews on Amazon are possible, you will not index them\n",
    "4. ***reviewDate*** -- a date.  The web page has a string for the date which must be parsable into a SOLR date\n",
    "5. ***reviewScore*** -- an integer.  The value must be between 1 and 5 inclusive\n",
    "6. ***id*** -- a UUID that is unique to the review.  This attribute is not on the web page;  you will make SOLR supply it (see below)."
   ]
  },
  {
   "cell_type": "markdown",
   "metadata": {},
   "source": [
    "### Scraping Reviews for a Product\n",
    "Your solution to this problem is a function\n",
    "<pre>\n",
    "scrape_pages_for_reviews(dirname)-> JSON array\n",
    "</pre>\n",
    "\n",
    "The function takes as input the absolute pathname of a directory containing HTML files.  Each file contains the HTML for an Amazon product detail page, and contains 0 or more reivews.  The output of this function is an array of JSON objects, each containing data for a single review.  Note that there may be more than one JSON object produced for a file (if the product has multiple reviews) or no objects (if the product on the page has no reviews). \n"
   ]
  },
  {
   "cell_type": "code",
   "execution_count": 3,
   "metadata": {},
   "outputs": [],
   "source": [
    "# Your Code Here -- REQUIRED FUNCTION\n",
    "def scrape_pages_for_reviews(path):\n",
    "    return None\n"
   ]
  },
  {
   "cell_type": "code",
   "execution_count": null,
   "metadata": {},
   "outputs": [],
   "source": [
    "reviews_json = scrape_pages_for_reviews(\"pages\")"
   ]
  },
  {
   "cell_type": "markdown",
   "metadata": {},
   "source": [
    "### Schema Design and Search Scenarios\n",
    "\n",
    "In designing your schema you first have to understand what search/query patterns will be implemented, and also any other data transformations you need to make."
   ]
  },
  {
   "cell_type": "markdown",
   "metadata": {},
   "source": [
    "#### Data Transformation\n",
    "\n",
    "You might notice in looking at product names, that the name often contains *VHS* or *DVD* and in a few cases *Region 2* or similar strings, all of which are not part of the product name, but rather are about the format of the product.  These are thought to be distracting in the search context, so they should not appear in the product name and should not be indexed for search.  Keeping terms like VHS or DVD in the review summary or body is fine.  Since you want to omit VHS or DVD from the *field text* than just in the index, you will have to make this transformation in code prior to indexing the document.\n",
    "\n",
    "(If you are feeling ambitious and you look at all the product names, you will notice that in a very few cases, simply removing *VHS* or *DVD* or *Region d* results in an ugly product name string.  It is acceptable to leave the few edge cases as they are, but wouldn't it be so much better to come up with a transformation that would work for them too?)"
   ]
  },
  {
   "cell_type": "markdown",
   "metadata": {},
   "source": [
    "#### Search Scenarios\n",
    "\n",
    "You will implement four separate search scenarios; the interface for the four searches is similar, but each search scenario is different in the way\n",
    "* the parameters it takes\n",
    "* how it searches those parameters\n",
    "* the document attributes it returns\n",
    "\n",
    "There will be more information below about how to implement the search scenarios;  this cell contains information you need to define your schema.  The information about how the search does retrieval based on its parameters is crucial to you making schema design decisions.\n",
    "\n",
    "1.  ***Review Search***:  this is a search on the review summary and body fields, as well as the review date and score.  For this search you should support (a) standard keyword querying over the review summary and review body fields, (b) range queries over the date and score.\n",
    "1. ***ASIN Search***:  this does a case-independent exact match on the product ID field\n",
    "1. ***Product Name Search***:  this searches the product name field only, and succeeds only if all keywords in the query string match a word in the stored string, *in order*.   Only the following processing should be done\n",
    "  * Stopwords should be removed\n",
    "  * The search should be case insensitive\n",
    "  * Possessives should be removed\n",
    "  * (Tokens should not otherwise be stemmed)\n",
    "1. ***ID Search***:  this is a direct lookup on the document's *id* field (its unique UUID)\n",
    "  \n",
    "Here are some examples of product name searches \n",
    "\n",
    "\n",
    "| Document Value | Query String | Matches? |\n",
    "|---|---|---|\n",
    "| Shakes the Clown | Shakes Clown | Yes |\n",
    "| Shakes the Clown | Clown Shakes | No  |\n",
    "| The Young Poisoner's Notebook | poisoner notebook | Yes |\n",
    "| The Young Poisoner's Notebook  | poison notebook | No |\n",
    "| Creature From the Black Lagoon | creature Lagoon | Yes |\n",
    "| Creature From the Black Lagoon | creature black lagoon | Yes |\n",
    "| Creature From the Black Lagoon | creature lagoon black | No |\n",
    "| Creature From the Black Lagoon | monster lagoon | No |\n",
    "\n",
    "------------------------------------------\n",
    "\n",
    "Here is a summary of the four search types\n",
    "\n",
    "| Search Type | Parameters Accepted | Document Attributes Returned |\n",
    "|---|---|---|\n",
    "| Review| Keywords from summary and body;  time threshold; score threshold | productName, productID, reviewSummary, reviewDate, reviewScore|\n",
    "| ASIN | Product ID / ASIN | reviewSummary, reviewBody, reviewDate, reviewScore, id |\n",
    "| Product Name | Keywords from product name | productName, productID, reviewSummary, reviewDate, reviewScore |\n",
    "| ID | ID UUID | all stored attributes in the document |\n",
    "\n"
   ]
  },
  {
   "cell_type": "markdown",
   "metadata": {},
   "source": [
    "--------------------------------------------\n",
    "#### Creating the SOLR Collection and Schema\n",
    "\n",
    "Start by defining a directory *conf* in the directory holding your notebook, and copy in standard SOLR configuration files. You will probably want to start with the default configuration and edit out everything you don't need.  You will edit the *schema.xml* file and any other files you need -- like stopwords or synonyms.   Your *conf* directory should have only files that are necessary for your SOLR collection to run, and your *schema.xml* file should contain only the elements required to implement your schema.\n",
    "\n",
    "Now that you have defined your schema and support files like your stopwords list, you will write a little code that will call SOLR and have it create the collection for you.\n",
    "\n",
    "For this section you supply a function <pre>create_collection(config_dir, solr_port=8983)</pre> which creates the collection in SOLR.  The *config_dir* parameter is the absolute pathname of your configuration directory.\n",
    "\n",
    "You may assume that when this function is run \n",
    "1.  SOLR is running\n",
    "2.  There is no existing collection with the name *amzn-reviews*\n"
   ]
  },
  {
   "cell_type": "code",
   "execution_count": 4,
   "metadata": {},
   "outputs": [],
   "source": [
    "# This is a function allowing us to do process execution in a platform-indepent way.  \n",
    "# You might have to change the location of the SOLR executable.  \n",
    "\n",
    "import subprocess\n",
    "\n",
    "SOLR_EXECUTABLE = 'C:\\\\solr-8.0.0\\\\bin\\\\solr.cmd'\n",
    "\n",
    "def solr_command(*args):\n",
    "    return subprocess.check_output([SOLR_EXECUTABLE] + list(args))"
   ]
  },
  {
   "cell_type": "code",
   "execution_count": 5,
   "metadata": {},
   "outputs": [],
   "source": [
    "# Your Code Here -- REQUIRED FUNCTION\n",
    "#  Call to SOLR that creates a new collection with the given name and \n",
    "#  whose configuration is located at the given directory.  Function returns no value\n",
    "\n",
    "def create_collection(config_dir, collection_name = 'amzn-reviews'):\n",
    "    return None"
   ]
  },
  {
   "cell_type": "code",
   "execution_count": 6,
   "metadata": {},
   "outputs": [],
   "source": [
    "#create_collection('conf')"
   ]
  },
  {
   "cell_type": "markdown",
   "metadata": {},
   "source": [
    "#### Indexing\n",
    "\n",
    "In this step you will index your reviews.  At this point the SOLR server should be running, and should have created the collection **amzn-reviews** to accept the reviews.  \n",
    "\n",
    "You should produce a function\n",
    "<pre>\n",
    "index_reviews(json_reviews, solr_port=8983)\n",
    "</pre>\n",
    "whose argument is a JSON array as produced by <pre>scrape_pages_for_reviews()</pre> above.  The function returns no result.\n",
    "\n",
    "Please be sure to set the **commit parameter** on the indexing so the documents will be available immediately after this function completes."
   ]
  },
  {
   "cell_type": "code",
   "execution_count": 7,
   "metadata": {},
   "outputs": [],
   "source": [
    "# Reviews points to a directory containing JSON files that conform to the \n",
    "# configured schema.  There is one document per file.  Call SOLR to index all \n",
    "# documents in the directory\n",
    "\n",
    "# Your Code Here -- REQUIRED FUNCTION\n",
    "def index_reviews(reviews, solr_port=8983, collection_name='amzn-reviews'):\n",
    "    return None"
   ]
  },
  {
   "cell_type": "code",
   "execution_count": 8,
   "metadata": {
    "scrolled": true
   },
   "outputs": [],
   "source": [
    "#index_reviews(reviews_json)"
   ]
  },
  {
   "cell_type": "markdown",
   "metadata": {},
   "source": [
    "----------------------------------------------\n",
    "### Queries and Retrieval\n",
    "\n",
    "Now you will write four query functions, one for each query type.  Each will take some query parameters as input, and return \n",
    "a query parameters that can be submitted to SOLR.  \n",
    "\n",
    "In addition there will be a simple function *do_query(params)* which will take a dictionary, convert the dictionary into query parameters, do the query to SOLR, and return a list of 0 or more documents (JSON dictionaries).  \n",
    "\n",
    "Each of the four query types will be implemented by a function that returns a dictionary that can be passed to *do_query()*\n",
    "See below for the definition of *do_query*.\n"
   ]
  },
  {
   "cell_type": "markdown",
   "metadata": {},
   "source": [
    "### The Four Search Types\n",
    "\n",
    "Refer to the cell above about what the four search types are supposed to do\n",
    "1. Review Search\n",
    "1. Product Name Search\n",
    "1. ASIN Search\n",
    "1. ID Search"
   ]
  },
  {
   "cell_type": "markdown",
   "metadata": {},
   "source": [
    "----------------------\n",
    "\n",
    "### Review Search\n",
    "\n",
    "<pre>\n",
    "review_query_dictionary(keywords='', date_str='', score_str=No''ne) -> dictionary\n",
    "</pre>\n",
    "\n",
    "#### Keywords parameter\n",
    "\n",
    "The *keywords* is a query string to be sent to SOLR -- you don't need to do any additional processing on it.\n",
    "\n",
    "#### Date parameter\n",
    "\n",
    "The *date_str* is of the form\n",
    "<pre>\n",
    "&lt;direction&gt; &lt;yyyy&gt;-&lt;mm&gt;-&lt;dd&gt;\n",
    "</pre>\n",
    "where &lt;direction&gt; is either '&lt;=' or '&gt;=' and the other components are the year, month and day of the user-supplied date.  The intent is for example if this component is \n",
    "<pre>\n",
    "&gt;= 2018-01-01\n",
    "</pre>\n",
    "only reviews with a date on or after Jan 1 2018 are returned.  If this string is omitted, no date filtering will be done.\n",
    "\n",
    "#### Score parameter\n",
    "\n",
    "The *score_str* is of the form\n",
    "<pre>\n",
    "&lt;direction&gt; &lt;score&gt;\n",
    "</pre>\n",
    "where &lt;direction&gt; is either '&lt;=' or '&gt;=' and *score* is an integer between 1 and 5.  The intent is for example if this component is \n",
    "<pre>\n",
    "&lt;= 3\n",
    "</pre>\n",
    "only reviews with a score of three or less are returned.  If this string is omitted, no score filtering will be done.\n",
    "\n",
    "This query returns all documents that meet *all* of the search criteria, if they are supplied.  If it is called with no arguments, it should return no results.\n",
    "\n",
    "#### Attributes returned\n",
    "The following document attributes should be returned when *do_query* is called on a string provided by *review_query_dictionary*\n",
    "* productName\n",
    "* productID\n",
    "* reviewSummary\n",
    "* reviewDate\n",
    "* reviewScore\n"
   ]
  },
  {
   "cell_type": "code",
   "execution_count": 10,
   "metadata": {},
   "outputs": [],
   "source": [
    "# Takes three input strings as defined above, and produces a dictionary\n",
    "# with key/value pairs that can be transformed into the SOLR select query \n",
    "# that implements review search.\n",
    "\n",
    "\n",
    "# Your Code Here -- REQUIRED FUNCTION\n",
    "def review_query_dictionary(kwd_str=\"\", date_str=\"\", score_str=\"\"):\n",
    "    return None\n"
   ]
  },
  {
   "cell_type": "markdown",
   "metadata": {},
   "source": [
    "### ASIN Search\n",
    "\n",
    "<pre>\n",
    "asin_query_dictionary(asin) -> dictionary\n",
    "</pre>\n",
    "\n",
    "This search returns all reviews associated with a particular ASIN (product ID).  Remember that the match should be case insensitive, so for ASINs with letters, the corresponding lower-cased ASIN string should match.\n",
    "\n",
    "#### Attributes returned\n",
    "The following document attributes are returned\n",
    "* reviewSummary\n",
    "* reviewBody\n",
    "* reviewDate\n",
    "* reviewScore"
   ]
  },
  {
   "cell_type": "code",
   "execution_count": 15,
   "metadata": {},
   "outputs": [],
   "source": [
    "# Takes a strings storing a possible ASIN, and returns a dictionary\n",
    "# with key/value pairs that can be transformed into the SOLR select query \n",
    "# that implements asin search.\n",
    "\n",
    "# Your Code Here -- REQUIRED FUNCTION\n",
    "def asin_query_dictionary(asin):\n",
    "    return None"
   ]
  },
  {
   "cell_type": "markdown",
   "metadata": {},
   "source": [
    "### Product Name Search\n",
    "\n",
    "<pre>\n",
    "product_name_query_dictionary(name_terms) -> dictionary\n",
    "</pre>\n",
    "\n",
    "This search returns all reviews associated with all products matching the name terms.  Remember the matching criterion is that all words in the name_terms must appear in that order in the product name, but the match should be case insensitive, ignore stop words, and remove possessives.\n",
    "\n",
    "#### Attributes returned\n",
    "The following document attributes are returned\n",
    "* productName\n",
    "* productID\n",
    "* reviewSummary\n",
    "* reviewDate\n",
    "* reviewScore\n",
    "* ID\n"
   ]
  },
  {
   "cell_type": "code",
   "execution_count": 20,
   "metadata": {},
   "outputs": [],
   "source": [
    "# Takes a strings with product name terms, and returns a dictionary\n",
    "# with key/value pairs that can be transformed into the SOLR select query \n",
    "# that implements product name search.\n",
    "\n",
    "# Your Code Here -- REQUIRED FUNCTION\n",
    "def product_name_query_dictionary(name_terms):\n",
    "    return None"
   ]
  },
  {
   "cell_type": "markdown",
   "metadata": {},
   "source": [
    "### ID Search\n",
    "\n",
    "<pre>\n",
    "id_query_dictionary(uuid) -> dictionary\n",
    "</pre>\n",
    "\n",
    "This search returns the review associated with the UUID provided as input, if such document exists.\n",
    "\n",
    "#### Attributes returned\n",
    "The following document attributes are returned\n",
    "* productName\n",
    "* productID\n",
    "* reviewSummary\n",
    "* reviewDate\n",
    "* reviewScore\n",
    "* ID"
   ]
  },
  {
   "cell_type": "code",
   "execution_count": 23,
   "metadata": {},
   "outputs": [],
   "source": [
    "# Takes a strings storing a possible ID (UUID), and returns a dictionary\n",
    "# with key/value pairs that can be transformed into the SOLR select query \n",
    "# that implements ID search.\n",
    "\n",
    "# Your Code Here -- REQUIRED FUNCTION\n",
    "\n",
    "def id_query_dictionary(id):\n",
    "    return None"
   ]
  },
  {
   "cell_type": "markdown",
   "metadata": {},
   "source": [
    "#### This is the main entry point to your search engine.  \n",
    "\n",
    "Its first argument will be the result of a call to one of the four \"dictionary\" functions above"
   ]
  },
  {
   "cell_type": "code",
   "execution_count": 9,
   "metadata": {},
   "outputs": [],
   "source": [
    "import requests\n",
    "\n",
    "# Takes as input a dictionary as returned by the functions above, formats the \n",
    "# dictionary as a SOLR GET call. It makes the select request to SOLR.  If the return\n",
    "# status is 200, returns the JSON response -- a list of documents.  If the return status is different from 200, \n",
    "# raise an exception that includes the status code. \n",
    "\n",
    "# Your Code Here -- REQUIRED FUNCTION\n",
    "def do_query(params, port=\"8983\", collection=\"amzn-reviews\"):\n",
    "    return None\n"
   ]
  }
 ],
 "metadata": {
  "kernelspec": {
   "display_name": "Python 3",
   "language": "python",
   "name": "python3"
  },
  "language_info": {
   "codemirror_mode": {
    "name": "ipython",
    "version": 3
   },
   "file_extension": ".py",
   "mimetype": "text/x-python",
   "name": "python",
   "nbconvert_exporter": "python",
   "pygments_lexer": "ipython3",
   "version": "3.7.0"
  }
 },
 "nbformat": 4,
 "nbformat_minor": 2
}
